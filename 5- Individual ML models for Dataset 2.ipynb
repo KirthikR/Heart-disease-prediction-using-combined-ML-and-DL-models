{
 "cells": [
  {
   "cell_type": "code",
   "execution_count": 1,
   "metadata": {
    "colab": {
     "base_uri": "https://localhost:8080/"
    },
    "executionInfo": {
     "elapsed": 3907,
     "status": "ok",
     "timestamp": 1692193995453,
     "user": {
      "displayName": "Jada Arjun",
      "userId": "12186396545589914085"
     },
     "user_tz": -330
    },
    "id": "z5iGcnNumcik",
    "outputId": "cc2664ef-3938-4784-c3fc-8bd1f97fe90f"
   },
   "outputs": [
    {
     "data": {
      "text/plain": [
       "(299, 16)"
      ]
     },
     "execution_count": 1,
     "metadata": {},
     "output_type": "execute_result"
    }
   ],
   "source": [
    "import pandas as Ht_De_Ptn_Pd\n",
    "Ht_De_Ptn_Pre = Ht_De_Ptn_Pd.read_csv(\"pre_proc_heart_disease_dataset2.csv\")\n",
    "Ht_De_Ptn_Pre.shape"
   ]
  },
  {
   "cell_type": "code",
   "execution_count": 2,
   "metadata": {},
   "outputs": [],
   "source": [
    "import warnings as Ht_De_Ptn_Pre_wrngs\n",
    "Ht_De_Ptn_Pre_wrngs.filterwarnings(\"ignore\")"
   ]
  },
  {
   "cell_type": "code",
   "execution_count": 3,
   "metadata": {},
   "outputs": [],
   "source": [
    "# Splitting dataset @ Training - 60%, Validation - 20% and Testing - 20%"
   ]
  },
  {
   "cell_type": "code",
   "execution_count": 4,
   "metadata": {},
   "outputs": [],
   "source": [
    "Ht_De_Ptn_Pre_X = Ht_De_Ptn_Pre.drop('num',axis=1)\n",
    "Ht_De_Ptn_Pre_Y = Ht_De_Ptn_Pre['num']"
   ]
  },
  {
   "cell_type": "code",
   "execution_count": 5,
   "metadata": {},
   "outputs": [
    {
     "name": "stdout",
     "output_type": "stream",
     "text": [
      "Heart Disease Data Count - Training: (179, 15)\n"
     ]
    }
   ],
   "source": [
    "from sklearn.model_selection import train_test_split as Ht_De_Ptn_Splt\n",
    "Ht_De_Ptn_Xtr, Ht_De_Ptn_Xts, Ht_De_Ptn_Ytr, Ht_De_Ptn_Yts = Ht_De_Ptn_Splt(Ht_De_Ptn_Pre_X, Ht_De_Ptn_Pre_Y, test_size=0.40, random_state= 42)\n",
    "print(\"Heart Disease Data Count - Training:\", Ht_De_Ptn_Xtr.shape)"
   ]
  },
  {
   "cell_type": "code",
   "execution_count": 6,
   "metadata": {},
   "outputs": [
    {
     "name": "stdout",
     "output_type": "stream",
     "text": [
      "Heart Disease Data Count - Testing: (60, 15)\n",
      "Heart Disease Data Count - Validating: (60, 15)\n"
     ]
    }
   ],
   "source": [
    "## Testing and Validation Heart Disease Dataset = 40% (20-20) ##\n",
    "Ht_De_Ptn_Xvl, Ht_De_Ptn_Xts, Ht_De_Ptn_Yvl, Ht_De_Ptn_Yts = Ht_De_Ptn_Splt(Ht_De_Ptn_Xts, Ht_De_Ptn_Yts, test_size= 0.5, random_state= 42)\n",
    "print(\"Heart Disease Data Count - Testing:\", Ht_De_Ptn_Xts.shape)\n",
    "print(\"Heart Disease Data Count - Validating:\", Ht_De_Ptn_Xvl.shape)"
   ]
  },
  {
   "cell_type": "code",
   "execution_count": 7,
   "metadata": {},
   "outputs": [],
   "source": [
    "# Implementing SVM Classifier"
   ]
  },
  {
   "cell_type": "code",
   "execution_count": 8,
   "metadata": {},
   "outputs": [],
   "source": [
    "from sklearn.metrics import classification_report as Ht_De_Ptn_Cfrt\n",
    "from sklearn.metrics import confusion_matrix as Ht_De_Ptn_Cfmx\n",
    "from sklearn.metrics import ConfusionMatrixDisplay as Ht_De_Ptn_Cfmxdy\n",
    "from sklearn.model_selection import GridSearchCV as Ht_De_Ptn_Gdscv\n",
    "import time as Ht_De_Ptn_tme"
   ]
  },
  {
   "cell_type": "code",
   "execution_count": 9,
   "metadata": {},
   "outputs": [
    {
     "name": "stdout",
     "output_type": "stream",
     "text": [
      "Fitting 2 folds for each of 24 candidates, totalling 48 fits\n",
      "{'C': 0.1, 'gamma': 'scale', 'kernel': 'rbf'}\n",
      "The GSV score of SVM model:  0.5700000000000001\n"
     ]
    }
   ],
   "source": [
    "from sklearn.svm import SVC as Ht_De_Ptn_SuVeCr\n",
    "\n",
    "Ht_De_Ptn_SVChp = {  'C': [0.1, 0.3, 0.5],\n",
    "                    'kernel': ['linear', 'rbf', 'poly', 'sigmoid'],\n",
    "                    'gamma': ['scale', 'auto']}\n",
    "\n",
    "Ht_De_Ptn_SuVeCrmd = Ht_De_Ptn_SuVeCr()\n",
    "Ht_De_Ptn_SuVeCrmd = Ht_De_Ptn_Gdscv(Ht_De_Ptn_SuVeCrmd, Ht_De_Ptn_SVChp, cv=2, verbose=1)\n",
    "Ht_De_Ptn_SuVeCrmd.fit(Ht_De_Ptn_Xtr.sample(100, random_state=42), Ht_De_Ptn_Ytr.sample(100, random_state=40))\n",
    "\n",
    "print( Ht_De_Ptn_SuVeCrmd.best_params_)\n",
    "print(\"The GSV score of SVM model: \", Ht_De_Ptn_SuVeCrmd.best_score_)"
   ]
  },
  {
   "cell_type": "code",
   "execution_count": 10,
   "metadata": {},
   "outputs": [
    {
     "name": "stdout",
     "output_type": "stream",
     "text": [
      "Time to train: 0.006145954132080078\n"
     ]
    }
   ],
   "source": [
    "Ht_De_Ptn_tt = Ht_De_Ptn_tme.time()\n",
    "\n",
    "Ht_De_Ptn_SuVeCrmd1 = Ht_De_Ptn_SuVeCr(**Ht_De_Ptn_SuVeCrmd.best_params_)\n",
    "Ht_De_Ptn_SuVeCrmd1.fit(Ht_De_Ptn_Xtr, Ht_De_Ptn_Ytr)\n",
    "\n",
    "Ht_De_Ptn_tt1 = Ht_De_Ptn_tme.time()\n",
    "print(\"Time to train:\", Ht_De_Ptn_tt1-Ht_De_Ptn_tt)"
   ]
  },
  {
   "cell_type": "code",
   "execution_count": 11,
   "metadata": {},
   "outputs": [
    {
     "name": "stdout",
     "output_type": "stream",
     "text": [
      "              precision    recall  f1-score   support\n",
      "\n",
      "           0       0.55      1.00      0.71        33\n",
      "           1       0.00      0.00      0.00        27\n",
      "\n",
      "    accuracy                           0.55        60\n",
      "   macro avg       0.28      0.50      0.35        60\n",
      "weighted avg       0.30      0.55      0.39        60\n",
      "\n",
      "Time to validate: 0.005042552947998047\n"
     ]
    },
    {
     "data": {
      "image/png": "[encoded data removed]",
      "text/plain": [
       "<Figure size 640x480 with 2 Axes>"
      ]
     },
     "metadata": {},
     "output_type": "display_data"
    }
   ],
   "source": [
    "Ht_De_Ptn_tt = Ht_De_Ptn_tme.time()\n",
    "\n",
    "Ht_De_Ptn_SuVeCrmd2 = Ht_De_Ptn_SuVeCrmd1.predict(Ht_De_Ptn_Xvl)\n",
    "print(Ht_De_Ptn_Cfrt(Ht_De_Ptn_Yvl, Ht_De_Ptn_SuVeCrmd2))\n",
    "\n",
    "Ht_De_Ptn_tt1 = Ht_De_Ptn_tme.time()\n",
    "Ht_De_Ptn_XX = Ht_De_Ptn_Cfmx(Ht_De_Ptn_Yvl, Ht_De_Ptn_SuVeCrmd2)\n",
    "Ht_De_Ptn_YY = Ht_De_Ptn_Cfmxdy(confusion_matrix = Ht_De_Ptn_XX, display_labels = [0, 1])\n",
    "Ht_De_Ptn_YY.plot()\n",
    "print(\"Time to validate:\", Ht_De_Ptn_tt1-Ht_De_Ptn_tt)"
   ]
  },
  {
   "cell_type": "code",
   "execution_count": 12,
   "metadata": {},
   "outputs": [
    {
     "name": "stdout",
     "output_type": "stream",
     "text": [
      "              precision    recall  f1-score   support\n",
      "\n",
      "           0       0.53      1.00      0.70        32\n",
      "           1       0.00      0.00      0.00        28\n",
      "\n",
      "    accuracy                           0.53        60\n",
      "   macro avg       0.27      0.50      0.35        60\n",
      "weighted avg       0.28      0.53      0.37        60\n",
      "\n",
      "Time to test: 0.01201486587524414\n"
     ]
    },
    {
     "data": {
      "image/png": "[encoded data removed]",
      "text/plain": [
       "<Figure size 640x480 with 2 Axes>"
      ]
     },
     "metadata": {},
     "output_type": "display_data"
    }
   ],
   "source": [
    "Ht_De_Ptn_tt = Ht_De_Ptn_tme.time()\n",
    "\n",
    "Ht_De_Ptn_SuVeCrmd3 = Ht_De_Ptn_SuVeCrmd1.predict(Ht_De_Ptn_Xts)\n",
    "print(Ht_De_Ptn_Cfrt(Ht_De_Ptn_Yts, Ht_De_Ptn_SuVeCrmd3))\n",
    "\n",
    "Ht_De_Ptn_tt1 = Ht_De_Ptn_tme.time()\n",
    "Ht_De_Ptn_XX = Ht_De_Ptn_Cfmx(Ht_De_Ptn_Yts, Ht_De_Ptn_SuVeCrmd3)\n",
    "Ht_De_Ptn_YY = Ht_De_Ptn_Cfmxdy(confusion_matrix = Ht_De_Ptn_XX, display_labels = [0, 1])\n",
    "Ht_De_Ptn_YY.plot()\n",
    "print(\"Time to test:\", Ht_De_Ptn_tt1-Ht_De_Ptn_tt)"
   ]
  },
  {
   "cell_type": "code",
   "execution_count": 13,
   "metadata": {},
   "outputs": [],
   "source": [
    "# Implementing RF Classifier"
   ]
  },
  {
   "cell_type": "code",
   "execution_count": 14,
   "metadata": {},
   "outputs": [
    {
     "name": "stdout",
     "output_type": "stream",
     "text": [
      "Fitting 2 folds for each of 108 candidates, totalling 216 fits\n",
      "{'max_depth': None, 'max_features': 'sqrt', 'min_samples_split': 2, 'n_estimators': 200}\n",
      "The GSV score of RF model:  0.5900000000000001\n"
     ]
    }
   ],
   "source": [
    "from sklearn.ensemble import RandomForestClassifier as Ht_De_Ptn_RmFtCr\n",
    "\n",
    "Ht_De_Ptn_RFChp = {\n",
    "            'n_estimators': [100, 200, 300],\n",
    "            'max_depth': [None, 10, 20, 30],\n",
    "            'min_samples_split': [2, 5, 10],\n",
    "            'max_features': ['auto', 'sqrt', 'log2']}\n",
    "\n",
    "Ht_De_Ptn_SuVeCrmd = Ht_De_Ptn_RmFtCr()\n",
    "Ht_De_Ptn_SuVeCrmd = Ht_De_Ptn_Gdscv(Ht_De_Ptn_SuVeCrmd, Ht_De_Ptn_RFChp, cv=2, verbose=1)\n",
    "Ht_De_Ptn_SuVeCrmd.fit(Ht_De_Ptn_Xtr.sample(100, random_state=42), Ht_De_Ptn_Ytr.sample(100, random_state=40))\n",
    "\n",
    "print( Ht_De_Ptn_SuVeCrmd.best_params_)\n",
    "print(\"The GSV score of RF model: \", Ht_De_Ptn_SuVeCrmd.best_score_)"
   ]
  },
  {
   "cell_type": "code",
   "execution_count": 15,
   "metadata": {},
   "outputs": [
    {
     "name": "stdout",
     "output_type": "stream",
     "text": [
      "Time to train: 0.23227667808532715\n"
     ]
    }
   ],
   "source": [
    "Ht_De_Ptn_tt = Ht_De_Ptn_tme.time()\n",
    "\n",
    "Ht_De_Ptn_SuVeCrmd1 = Ht_De_Ptn_RmFtCr(**Ht_De_Ptn_SuVeCrmd.best_params_)\n",
    "Ht_De_Ptn_SuVeCrmd1.fit(Ht_De_Ptn_Xtr, Ht_De_Ptn_Ytr)\n",
    "\n",
    "Ht_De_Ptn_tt1 = Ht_De_Ptn_tme.time()\n",
    "print(\"Time to train:\", Ht_De_Ptn_tt1-Ht_De_Ptn_tt)"
   ]
  },
  {
   "cell_type": "code",
   "execution_count": 16,
   "metadata": {},
   "outputs": [
    {
     "name": "stdout",
     "output_type": "stream",
     "text": [
      "              precision    recall  f1-score   support\n",
      "\n",
      "           0       0.80      0.85      0.82        33\n",
      "           1       0.80      0.74      0.77        27\n",
      "\n",
      "    accuracy                           0.80        60\n",
      "   macro avg       0.80      0.79      0.80        60\n",
      "weighted avg       0.80      0.80      0.80        60\n",
      "\n",
      "Time to validate: 0.005993366241455078\n"
     ]
    },
    {
     "data": {
      "image/png": "[encoded data removed]",
      "text/plain": [
       "<Figure size 640x480 with 2 Axes>"
      ]
     },
     "metadata": {},
     "output_type": "display_data"
    }
   ],
   "source": [
    "Ht_De_Ptn_tt = Ht_De_Ptn_tme.time()\n",
    "\n",
    "Ht_De_Ptn_SuVeCrmd2 = Ht_De_Ptn_SuVeCrmd1.predict(Ht_De_Ptn_Xvl)\n",
    "print(Ht_De_Ptn_Cfrt(Ht_De_Ptn_Yvl, Ht_De_Ptn_SuVeCrmd2))\n",
    "\n",
    "Ht_De_Ptn_tt1 = Ht_De_Ptn_tme.time()\n",
    "Ht_De_Ptn_XX = Ht_De_Ptn_Cfmx(Ht_De_Ptn_Yvl, Ht_De_Ptn_SuVeCrmd2)\n",
    "Ht_De_Ptn_YY = Ht_De_Ptn_Cfmxdy(confusion_matrix = Ht_De_Ptn_XX, display_labels = [0, 1])\n",
    "Ht_De_Ptn_YY.plot()\n",
    "print(\"Time to validate:\", Ht_De_Ptn_tt1-Ht_De_Ptn_tt)"
   ]
  },
  {
   "cell_type": "code",
   "execution_count": 17,
   "metadata": {},
   "outputs": [
    {
     "name": "stdout",
     "output_type": "stream",
     "text": [
      "              precision    recall  f1-score   support\n",
      "\n",
      "           0       0.86      0.97      0.91        32\n",
      "           1       0.96      0.82      0.88        28\n",
      "\n",
      "    accuracy                           0.90        60\n",
      "   macro avg       0.91      0.90      0.90        60\n",
      "weighted avg       0.91      0.90      0.90        60\n",
      "\n",
      "Time to test: 0.020639657974243164\n"
     ]
    },
    {
     "data": {
      "image/png": "[encoded data removed]",
      "text/plain": [
       "<Figure size 640x480 with 2 Axes>"
      ]
     },
     "metadata": {},
     "output_type": "display_data"
    }
   ],
   "source": [
    "Ht_De_Ptn_tt = Ht_De_Ptn_tme.time()\n",
    "\n",
    "Ht_De_Ptn_SuVeCrmd3 = Ht_De_Ptn_SuVeCrmd1.predict(Ht_De_Ptn_Xts)\n",
    "print(Ht_De_Ptn_Cfrt(Ht_De_Ptn_Yts, Ht_De_Ptn_SuVeCrmd3))\n",
    "\n",
    "Ht_De_Ptn_tt1 = Ht_De_Ptn_tme.time()\n",
    "Ht_De_Ptn_XX = Ht_De_Ptn_Cfmx(Ht_De_Ptn_Yts, Ht_De_Ptn_SuVeCrmd3)\n",
    "Ht_De_Ptn_YY = Ht_De_Ptn_Cfmxdy(confusion_matrix = Ht_De_Ptn_XX, display_labels = [0, 1])\n",
    "Ht_De_Ptn_YY.plot()\n",
    "print(\"Time to test:\", Ht_De_Ptn_tt1-Ht_De_Ptn_tt)"
   ]
  },
  {
   "cell_type": "code",
   "execution_count": 18,
   "metadata": {},
   "outputs": [],
   "source": [
    "# Implementing MLP Classifier"
   ]
  },
  {
   "cell_type": "code",
   "execution_count": 19,
   "metadata": {},
   "outputs": [
    {
     "name": "stdout",
     "output_type": "stream",
     "text": [
      "Fitting 2 folds for each of 108 candidates, totalling 216 fits\n",
      "{'activation': 'tanh', 'alpha': 0.0001, 'learning_rate': 'adaptive', 'max_iter': 300, 'solver': 'sgd'}\n",
      "The GSV score of MLP classifier:  0.59\n"
     ]
    }
   ],
   "source": [
    "from sklearn.neural_network import MLPClassifier as Ht_De_Ptn_MLPCr\n",
    "\n",
    "Ht_De_Ptn_MLPhp = {\n",
    "                'activation': ['relu', 'tanh', 'logistic'],\n",
    "                'solver': ['sgd', 'adam'],\n",
    "                'alpha': [0.0001, 0.001, 0.01],\n",
    "                'learning_rate': ['constant', 'adaptive'],\n",
    "                'max_iter': [100, 200, 300]}\n",
    "\n",
    "Ht_De_Ptn_SuVeCrmd = Ht_De_Ptn_MLPCr()\n",
    "Ht_De_Ptn_SuVeCrmd = Ht_De_Ptn_Gdscv(Ht_De_Ptn_SuVeCrmd, Ht_De_Ptn_MLPhp, cv=2, verbose=1)\n",
    "Ht_De_Ptn_SuVeCrmd.fit(Ht_De_Ptn_Xtr.sample(100, random_state=42), Ht_De_Ptn_Ytr.sample(100, random_state=40))\n",
    "\n",
    "print( Ht_De_Ptn_SuVeCrmd.best_params_)\n",
    "print(\"The GSV score of MLP classifier: \", Ht_De_Ptn_SuVeCrmd.best_score_)"
   ]
  },
  {
   "cell_type": "code",
   "execution_count": 20,
   "metadata": {},
   "outputs": [
    {
     "name": "stdout",
     "output_type": "stream",
     "text": [
      "Time to train: 0.1280841827392578\n"
     ]
    }
   ],
   "source": [
    "Ht_De_Ptn_tt = Ht_De_Ptn_tme.time()\n",
    "\n",
    "Ht_De_Ptn_SuVeCrmd1 = Ht_De_Ptn_MLPCr(**Ht_De_Ptn_SuVeCrmd.best_params_)\n",
    "Ht_De_Ptn_SuVeCrmd1.fit(Ht_De_Ptn_Xtr, Ht_De_Ptn_Ytr)\n",
    "\n",
    "Ht_De_Ptn_tt1 = Ht_De_Ptn_tme.time()\n",
    "print(\"Time to train:\", Ht_De_Ptn_tt1-Ht_De_Ptn_tt)"
   ]
  },
  {
   "cell_type": "code",
   "execution_count": 21,
   "metadata": {},
   "outputs": [
    {
     "name": "stdout",
     "output_type": "stream",
     "text": [
      "              precision    recall  f1-score   support\n",
      "\n",
      "           0       0.69      0.88      0.77        33\n",
      "           1       0.78      0.52      0.62        27\n",
      "\n",
      "    accuracy                           0.72        60\n",
      "   macro avg       0.73      0.70      0.70        60\n",
      "weighted avg       0.73      0.72      0.71        60\n",
      "\n",
      "Time to validate: 0.008003950119018555\n"
     ]
    },
    {
     "data": {
      "image/png": "[encoded data removed]",
      "text/plain": [
       "<Figure size 640x480 with 2 Axes>"
      ]
     },
     "metadata": {},
     "output_type": "display_data"
    }
   ],
   "source": [
    "Ht_De_Ptn_tt = Ht_De_Ptn_tme.time()\n",
    "\n",
    "Ht_De_Ptn_SuVeCrmd2 = Ht_De_Ptn_SuVeCrmd1.predict(Ht_De_Ptn_Xvl)\n",
    "print(Ht_De_Ptn_Cfrt(Ht_De_Ptn_Yvl, Ht_De_Ptn_SuVeCrmd2))\n",
    "\n",
    "Ht_De_Ptn_tt1 = Ht_De_Ptn_tme.time()\n",
    "Ht_De_Ptn_XX = Ht_De_Ptn_Cfmx(Ht_De_Ptn_Yvl, Ht_De_Ptn_SuVeCrmd2)\n",
    "Ht_De_Ptn_YY = Ht_De_Ptn_Cfmxdy(confusion_matrix = Ht_De_Ptn_XX, display_labels = [0, 1])\n",
    "Ht_De_Ptn_YY.plot()\n",
    "print(\"Time to validate:\", Ht_De_Ptn_tt1-Ht_De_Ptn_tt)"
   ]
  },
  {
   "cell_type": "code",
   "execution_count": 22,
   "metadata": {},
   "outputs": [
    {
     "name": "stdout",
     "output_type": "stream",
     "text": [
      "              precision    recall  f1-score   support\n",
      "\n",
      "           0       0.74      0.81      0.78        32\n",
      "           1       0.76      0.68      0.72        28\n",
      "\n",
      "    accuracy                           0.75        60\n",
      "   macro avg       0.75      0.75      0.75        60\n",
      "weighted avg       0.75      0.75      0.75        60\n",
      "\n",
      "Time to test: 0.005504131317138672\n"
     ]
    },
    {
     "data": {
      "image/png": "[encoded data removed]",
      "text/plain": [
       "<Figure size 640x480 with 2 Axes>"
      ]
     },
     "metadata": {},
     "output_type": "display_data"
    }
   ],
   "source": [
    "Ht_De_Ptn_tt = Ht_De_Ptn_tme.time()\n",
    "\n",
    "Ht_De_Ptn_SuVeCrmd3 = Ht_De_Ptn_SuVeCrmd1.predict(Ht_De_Ptn_Xts)\n",
    "print(Ht_De_Ptn_Cfrt(Ht_De_Ptn_Yts, Ht_De_Ptn_SuVeCrmd3))\n",
    "\n",
    "Ht_De_Ptn_tt1 = Ht_De_Ptn_tme.time()\n",
    "Ht_De_Ptn_XX = Ht_De_Ptn_Cfmx(Ht_De_Ptn_Yts, Ht_De_Ptn_SuVeCrmd3)\n",
    "Ht_De_Ptn_YY = Ht_De_Ptn_Cfmxdy(confusion_matrix = Ht_De_Ptn_XX, display_labels = [0, 1])\n",
    "Ht_De_Ptn_YY.plot()\n",
    "print(\"Time to test:\", Ht_De_Ptn_tt1-Ht_De_Ptn_tt)"
   ]
  },
  {
   "cell_type": "code",
   "execution_count": 23,
   "metadata": {},
   "outputs": [],
   "source": [
    "# Implementing DT Classifier"
   ]
  },
  {
   "cell_type": "code",
   "execution_count": 24,
   "metadata": {},
   "outputs": [
    {
     "name": "stdout",
     "output_type": "stream",
     "text": [
      "Fitting 2 folds for each of 72 candidates, totalling 144 fits\n",
      "{'criterion': 'gini', 'max_depth': 20, 'min_samples_leaf': 2, 'min_samples_split': 3}\n",
      "The GSV score of DT Classifier:  0.5900000000000001\n"
     ]
    }
   ],
   "source": [
    "from sklearn.tree import DecisionTreeClassifier as Ht_De_Ptn_DnTeCr\n",
    "\n",
    "Ht_De_Ptn_DThp = {'criterion': ['gini', 'entropy'],\n",
    "                'max_depth': [10, 20, 30, 40],\n",
    "                'min_samples_split': [3, 5, 7], \n",
    "                'min_samples_leaf': [1, 2, 4]}\n",
    "\n",
    "Ht_De_Ptn_SuVeCrmd = Ht_De_Ptn_DnTeCr()\n",
    "Ht_De_Ptn_SuVeCrmd = Ht_De_Ptn_Gdscv(Ht_De_Ptn_SuVeCrmd, Ht_De_Ptn_DThp, cv=2, verbose=1)\n",
    "Ht_De_Ptn_SuVeCrmd.fit(Ht_De_Ptn_Xtr.sample(100, random_state=42), Ht_De_Ptn_Ytr.sample(100, random_state=40))\n",
    "\n",
    "print( Ht_De_Ptn_SuVeCrmd.best_params_)\n",
    "print(\"The GSV score of DT Classifier: \", Ht_De_Ptn_SuVeCrmd.best_score_)"
   ]
  },
  {
   "cell_type": "code",
   "execution_count": 25,
   "metadata": {},
   "outputs": [
    {
     "name": "stdout",
     "output_type": "stream",
     "text": [
      "Time to train: 0.0\n"
     ]
    }
   ],
   "source": [
    "Ht_De_Ptn_tt = Ht_De_Ptn_tme.time()\n",
    "\n",
    "Ht_De_Ptn_SuVeCrmd1 = Ht_De_Ptn_DnTeCr(**Ht_De_Ptn_SuVeCrmd.best_params_)\n",
    "Ht_De_Ptn_SuVeCrmd1.fit(Ht_De_Ptn_Xtr, Ht_De_Ptn_Ytr)\n",
    "\n",
    "Ht_De_Ptn_tt1 = Ht_De_Ptn_tme.time()\n",
    "print(\"Time to train:\", Ht_De_Ptn_tt1-Ht_De_Ptn_tt)"
   ]
  },
  {
   "cell_type": "code",
   "execution_count": 26,
   "metadata": {},
   "outputs": [
    {
     "name": "stdout",
     "output_type": "stream",
     "text": [
      "              precision    recall  f1-score   support\n",
      "\n",
      "           0       0.72      0.85      0.78        33\n",
      "           1       0.76      0.59      0.67        27\n",
      "\n",
      "    accuracy                           0.73        60\n",
      "   macro avg       0.74      0.72      0.72        60\n",
      "weighted avg       0.74      0.73      0.73        60\n",
      "\n",
      "Time to validate: 0.0\n"
     ]
    },
    {
     "data": {
      "image/png": "[encoded data removed]",
      "text/plain": [
       "<Figure size 640x480 with 2 Axes>"
      ]
     },
     "metadata": {},
     "output_type": "display_data"
    }
   ],
   "source": [
    "Ht_De_Ptn_tt = Ht_De_Ptn_tme.time()\n",
    "\n",
    "Ht_De_Ptn_SuVeCrmd2 = Ht_De_Ptn_SuVeCrmd1.predict(Ht_De_Ptn_Xvl)\n",
    "print(Ht_De_Ptn_Cfrt(Ht_De_Ptn_Yvl, Ht_De_Ptn_SuVeCrmd2))\n",
    "\n",
    "Ht_De_Ptn_tt1 = Ht_De_Ptn_tme.time()\n",
    "Ht_De_Ptn_XX = Ht_De_Ptn_Cfmx(Ht_De_Ptn_Yvl, Ht_De_Ptn_SuVeCrmd2)\n",
    "Ht_De_Ptn_YY = Ht_De_Ptn_Cfmxdy(confusion_matrix = Ht_De_Ptn_XX, display_labels = [0, 1])\n",
    "Ht_De_Ptn_YY.plot()\n",
    "print(\"Time to validate:\", Ht_De_Ptn_tt1-Ht_De_Ptn_tt)"
   ]
  },
  {
   "cell_type": "code",
   "execution_count": 27,
   "metadata": {},
   "outputs": [
    {
     "name": "stdout",
     "output_type": "stream",
     "text": [
      "              precision    recall  f1-score   support\n",
      "\n",
      "           0       0.90      0.88      0.89        32\n",
      "           1       0.86      0.89      0.88        28\n",
      "\n",
      "    accuracy                           0.88        60\n",
      "   macro avg       0.88      0.88      0.88        60\n",
      "weighted avg       0.88      0.88      0.88        60\n",
      "\n",
      "Time to test: 0.0\n"
     ]
    },
    {
     "data": {
      "image/png": "[encoded data removed]",
      "text/plain": [
       "<Figure size 640x480 with 2 Axes>"
      ]
     },
     "metadata": {},
     "output_type": "display_data"
    }
   ],
   "source": [
    "Ht_De_Ptn_tt = Ht_De_Ptn_tme.time()\n",
    "\n",
    "Ht_De_Ptn_SuVeCrmd3 = Ht_De_Ptn_SuVeCrmd1.predict(Ht_De_Ptn_Xts)\n",
    "print(Ht_De_Ptn_Cfrt(Ht_De_Ptn_Yts, Ht_De_Ptn_SuVeCrmd3))\n",
    "\n",
    "Ht_De_Ptn_tt1 = Ht_De_Ptn_tme.time()\n",
    "Ht_De_Ptn_XX = Ht_De_Ptn_Cfmx(Ht_De_Ptn_Yts, Ht_De_Ptn_SuVeCrmd3)\n",
    "Ht_De_Ptn_YY = Ht_De_Ptn_Cfmxdy(confusion_matrix = Ht_De_Ptn_XX, display_labels = [0, 1])\n",
    "Ht_De_Ptn_YY.plot()\n",
    "print(\"Time to test:\", Ht_De_Ptn_tt1-Ht_De_Ptn_tt)"
   ]
  },
  {
   "cell_type": "code",
   "execution_count": null,
   "metadata": {},
   "outputs": [],
   "source": []
  }
 ],
 "metadata": {
  "colab": {
   "authorship_tag": "ABX9TyNtoUXRG02P//t6/J6D2pji",
   "mount_file_id": "1GM-C1SGnh4xiSJmRzUVXpP9xbbxUZ-H6",
   "provenance": [],
   "toc_visible": true
  },
  "kernelspec": {
   "display_name": "Python 3 (ipykernel)",
   "language": "python",
   "name": "python3"
  },
  "language_info": {
   "codemirror_mode": {
    "name": "ipython",
    "version": 3
   },
   "file_extension": ".py",
   "mimetype": "text/x-python",
   "name": "python",
   "nbconvert_exporter": "python",
   "pygments_lexer": "ipython3",
   "version": "3.11.3"
  }
 },
 "nbformat": 4,
 "nbformat_minor": 1
}
