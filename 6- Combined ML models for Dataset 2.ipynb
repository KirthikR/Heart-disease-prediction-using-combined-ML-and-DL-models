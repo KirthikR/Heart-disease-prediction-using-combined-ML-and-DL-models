{
 "cells": [
  {
   "cell_type": "code",
   "execution_count": 28,
   "metadata": {
    "colab": {
     "base_uri": "https://localhost:8080/"
    },
    "executionInfo": {
     "elapsed": 3907,
     "status": "ok",
     "timestamp": 1692193995453,
     "user": {
      "displayName": "Jada Arjun",
      "userId": "12186396545589914085"
     },
     "user_tz": -330
    },
    "id": "z5iGcnNumcik",
    "outputId": "cc2664ef-3938-4784-c3fc-8bd1f97fe90f"
   },
   "outputs": [
    {
     "data": {
      "text/plain": [
       "(299, 16)"
      ]
     },
     "execution_count": 28,
     "metadata": {},
     "output_type": "execute_result"
    }
   ],
   "source": [
    "import pandas as Ht_De_Ptn_Pd\n",
    "Ht_De_Ptn_Pre = Ht_De_Ptn_Pd.read_csv(\"pre_proc_heart_disease_dataset2.csv\")\n",
    "Ht_De_Ptn_Pre.shape"
   ]
  },
  {
   "cell_type": "code",
   "execution_count": 29,
   "metadata": {},
   "outputs": [],
   "source": [
    "import warnings as Ht_De_Ptn_Pre_wrngs\n",
    "Ht_De_Ptn_Pre_wrngs.filterwarnings(\"ignore\")"
   ]
  },
  {
   "cell_type": "code",
   "execution_count": 30,
   "metadata": {},
   "outputs": [],
   "source": [
    "# Splitting dataset @ Training - 60%, Validation - 20% and Testing - 20%"
   ]
  },
  {
   "cell_type": "code",
   "execution_count": 31,
   "metadata": {},
   "outputs": [],
   "source": [
    "Ht_De_Ptn_Pre_X = Ht_De_Ptn_Pre.drop('num',axis=1)\n",
    "Ht_De_Ptn_Pre_Y = Ht_De_Ptn_Pre['num']"
   ]
  },
  {
   "cell_type": "code",
   "execution_count": 32,
   "metadata": {},
   "outputs": [
    {
     "name": "stdout",
     "output_type": "stream",
     "text": [
      "Heart Disease Data Count - Training: (179, 15)\n"
     ]
    }
   ],
   "source": [
    "from sklearn.model_selection import train_test_split as Ht_De_Ptn_Splt\n",
    "Ht_De_Ptn_Xtr, Ht_De_Ptn_Xts, Ht_De_Ptn_Ytr, Ht_De_Ptn_Yts = Ht_De_Ptn_Splt(Ht_De_Ptn_Pre_X, Ht_De_Ptn_Pre_Y, test_size=0.40, random_state= 42)\n",
    "print(\"Heart Disease Data Count - Training:\", Ht_De_Ptn_Xtr.shape)"
   ]
  },
  {
   "cell_type": "code",
   "execution_count": 33,
   "metadata": {},
   "outputs": [
    {
     "name": "stdout",
     "output_type": "stream",
     "text": [
      "Heart Disease Data Count - Testing: (60, 15)\n",
      "Heart Disease Data Count - Validating: (60, 15)\n"
     ]
    }
   ],
   "source": [
    "## Testing and Validation Heart Disease Dataset = 40% (20-20) ##\n",
    "Ht_De_Ptn_Xvl, Ht_De_Ptn_Xts, Ht_De_Ptn_Yvl, Ht_De_Ptn_Yts = Ht_De_Ptn_Splt(Ht_De_Ptn_Xts, Ht_De_Ptn_Yts, test_size= 0.5, random_state= 42)\n",
    "print(\"Heart Disease Data Count - Testing:\", Ht_De_Ptn_Xts.shape)\n",
    "print(\"Heart Disease Data Count - Validating:\", Ht_De_Ptn_Xvl.shape)"
   ]
  },
  {
   "cell_type": "code",
   "execution_count": 34,
   "metadata": {},
   "outputs": [],
   "source": [
    "# Combined Models (SVM & RF)"
   ]
  },
  {
   "cell_type": "code",
   "execution_count": 35,
   "metadata": {},
   "outputs": [],
   "source": [
    "from sklearn.metrics import classification_report as Ht_De_Ptn_Cfrt\n",
    "from sklearn.metrics import confusion_matrix as Ht_De_Ptn_Cfmx\n",
    "from sklearn.metrics import ConfusionMatrixDisplay as Ht_De_Ptn_Cfmxdy\n",
    "from sklearn.model_selection import GridSearchCV as Ht_De_Ptn_Gdscv\n",
    "from sklearn.ensemble import VotingClassifier\n",
    "import time as Ht_De_Ptn_tme"
   ]
  },
  {
   "cell_type": "code",
   "execution_count": 36,
   "metadata": {},
   "outputs": [
    {
     "name": "stdout",
     "output_type": "stream",
     "text": [
      "Fitting 2 folds for each of 1 candidates, totalling 2 fits\n",
      "Fitting 2 folds for each of 1 candidates, totalling 2 fits\n",
      "Fitting 2 folds for each of 2 candidates, totalling 4 fits\n",
      "{'voting': 'hard'}\n",
      "The GSV score of combined SVM and RF models: 0.64\n"
     ]
    }
   ],
   "source": [
    "from sklearn.svm import SVC as Ht_De_Ptn_SuVeCr\n",
    "from sklearn.ensemble import RandomForestClassifier as Ht_De_Ptn_RmFtCr\n",
    "\n",
    "Ht_De_Ptn_VChp = {'voting': ['hard', 'soft']}\n",
    "\n",
    "SVM_params = {'C': [0.1], 'gamma': ['scale'],'kernel': ['rbf']}\n",
    "RF_params = {'max_depth': [None], 'max_features': ['sqrt'], 'min_samples_split': [2], 'n_estimators': [200]}\n",
    "\n",
    "Ht_De_Ptn_SuVeCrmd = Ht_De_Ptn_SuVeCr()\n",
    "Ht_De_Ptn_RmFtCrmd = Ht_De_Ptn_RmFtCr()\n",
    "\n",
    "# GridSearchCV for SVM and RF Classifier\n",
    "Ht_De_Ptn_SVCGrid = Ht_De_Ptn_Gdscv(Ht_De_Ptn_SuVeCrmd, SVM_params, cv=2, verbose=1)\n",
    "Ht_De_Ptn_SVCGrid.fit(Ht_De_Ptn_Xtr.sample(50, random_state=42), Ht_De_Ptn_Ytr.sample(50, random_state=42))\n",
    "\n",
    "Ht_De_Ptn_RFGrid = Ht_De_Ptn_Gdscv(Ht_De_Ptn_RmFtCrmd, RF_params, cv=2, verbose=1)\n",
    "Ht_De_Ptn_RFGrid.fit(Ht_De_Ptn_Xtr.sample(50, random_state=42), Ht_De_Ptn_Ytr.sample(50, random_state=42))\n",
    "\n",
    "# Combined models using Voting Classifier\n",
    "Ht_De_Ptn_Votmd = VotingClassifier(estimators=[('SVM', Ht_De_Ptn_SVCGrid.best_estimator_), ('RF', Ht_De_Ptn_RFGrid.best_estimator_)])\n",
    "\n",
    "Ht_De_Ptn_Vtmd = Ht_De_Ptn_Gdscv(Ht_De_Ptn_Votmd, Ht_De_Ptn_VChp, cv=2, verbose=1)\n",
    "Ht_De_Ptn_Vtmd.fit(Ht_De_Ptn_Xtr.sample(50, random_state=42), Ht_De_Ptn_Ytr.sample(50, random_state=42))\n",
    "\n",
    "print(Ht_De_Ptn_Vtmd.best_params_)\n",
    "print(\"The GSV score of combined SVM and RF models:\", Ht_De_Ptn_Vtmd.best_score_)\n"
   ]
  },
  {
   "cell_type": "code",
   "execution_count": 37,
   "metadata": {},
   "outputs": [
    {
     "name": "stdout",
     "output_type": "stream",
     "text": [
      "Time to train: 0.20348858833312988\n"
     ]
    }
   ],
   "source": [
    "Ht_De_Ptn_tt = Ht_De_Ptn_tme.time()\n",
    "\n",
    "Ht_De_Ptn_VtmdClr = VotingClassifier(estimators=[('SVC', Ht_De_Ptn_SVCGrid.best_estimator_), ('RF', Ht_De_Ptn_RFGrid.best_estimator_)], voting='hard')\n",
    "Ht_De_Ptn_VtmdClr.fit(Ht_De_Ptn_Xtr, Ht_De_Ptn_Ytr)\n",
    "\n",
    "Ht_De_Ptn_tt1 = Ht_De_Ptn_tme.time()\n",
    "print(\"Time to train:\", Ht_De_Ptn_tt1-Ht_De_Ptn_tt)"
   ]
  },
  {
   "cell_type": "code",
   "execution_count": 38,
   "metadata": {},
   "outputs": [
    {
     "name": "stdout",
     "output_type": "stream",
     "text": [
      "              precision    recall  f1-score   support\n",
      "\n",
      "           0       0.55      1.00      0.71        33\n",
      "           1       0.00      0.00      0.00        27\n",
      "\n",
      "    accuracy                           0.55        60\n",
      "   macro avg       0.28      0.50      0.35        60\n",
      "weighted avg       0.30      0.55      0.39        60\n",
      "\n",
      "Time to validate: 0.02613210678100586\n"
     ]
    },
    {
     "data": {
      "image/png": "[encoded data removed]",
      "text/plain": [
       "<Figure size 640x480 with 2 Axes>"
      ]
     },
     "metadata": {},
     "output_type": "display_data"
    }
   ],
   "source": [
    "Ht_De_Ptn_tt = Ht_De_Ptn_tme.time()\n",
    "\n",
    "Ht_De_Ptn_VtmdClr1 = Ht_De_Ptn_VtmdClr.predict(Ht_De_Ptn_Xvl)\n",
    "print(Ht_De_Ptn_Cfrt(Ht_De_Ptn_Yvl, Ht_De_Ptn_VtmdClr1))\n",
    "\n",
    "Ht_De_Ptn_tt1 = Ht_De_Ptn_tme.time()\n",
    "Ht_De_Ptn_XX = Ht_De_Ptn_Cfmx(Ht_De_Ptn_Yvl, Ht_De_Ptn_VtmdClr1)\n",
    "Ht_De_Ptn_YY = Ht_De_Ptn_Cfmxdy(confusion_matrix = Ht_De_Ptn_XX, display_labels = [0, 1])\n",
    "Ht_De_Ptn_YY.plot()\n",
    "print(\"Time to validate:\", Ht_De_Ptn_tt1-Ht_De_Ptn_tt)"
   ]
  },
  {
   "cell_type": "code",
   "execution_count": 39,
   "metadata": {},
   "outputs": [
    {
     "name": "stdout",
     "output_type": "stream",
     "text": [
      "              precision    recall  f1-score   support\n",
      "\n",
      "           0       0.53      1.00      0.70        32\n",
      "           1       0.00      0.00      0.00        28\n",
      "\n",
      "    accuracy                           0.53        60\n",
      "   macro avg       0.27      0.50      0.35        60\n",
      "weighted avg       0.28      0.53      0.37        60\n",
      "\n",
      "Time to test: 0.02325892448425293\n"
     ]
    },
    {
     "data": {
      "image/png": "[encoded data removed]",
      "text/plain": [
       "<Figure size 640x480 with 2 Axes>"
      ]
     },
     "metadata": {},
     "output_type": "display_data"
    }
   ],
   "source": [
    "Ht_De_Ptn_tt = Ht_De_Ptn_tme.time()\n",
    "\n",
    "Ht_De_Ptn_VtmdClr2 = Ht_De_Ptn_VtmdClr.predict(Ht_De_Ptn_Xts)\n",
    "print(Ht_De_Ptn_Cfrt(Ht_De_Ptn_Yts, Ht_De_Ptn_VtmdClr2))\n",
    "\n",
    "Ht_De_Ptn_tt1 = Ht_De_Ptn_tme.time()\n",
    "Ht_De_Ptn_XX = Ht_De_Ptn_Cfmx(Ht_De_Ptn_Yts, Ht_De_Ptn_VtmdClr2)\n",
    "Ht_De_Ptn_YY = Ht_De_Ptn_Cfmxdy(confusion_matrix = Ht_De_Ptn_XX, display_labels = [0, 1])\n",
    "Ht_De_Ptn_YY.plot()\n",
    "print(\"Time to test:\", Ht_De_Ptn_tt1-Ht_De_Ptn_tt)"
   ]
  },
  {
   "cell_type": "code",
   "execution_count": 13,
   "metadata": {},
   "outputs": [],
   "source": [
    "# Combined Models (RF & MLP)"
   ]
  },
  {
   "cell_type": "code",
   "execution_count": 40,
   "metadata": {},
   "outputs": [
    {
     "name": "stdout",
     "output_type": "stream",
     "text": [
      "Fitting 2 folds for each of 1 candidates, totalling 2 fits\n",
      "Fitting 2 folds for each of 1 candidates, totalling 2 fits\n",
      "Fitting 2 folds for each of 2 candidates, totalling 4 fits\n",
      "{'voting': 'hard'}\n",
      "The GSV score of combined RF and MLP models: 0.78\n"
     ]
    }
   ],
   "source": [
    "from sklearn.ensemble import RandomForestClassifier as Ht_De_Ptn_RmFtCr\n",
    "from sklearn.neural_network import MLPClassifier as Ht_De_Ptn_MLPCr\n",
    "\n",
    "Ht_De_Ptn_VChp = {'voting': ['hard', 'soft']}\n",
    "\n",
    "RF_params = {'max_depth': [None], 'max_features': ['sqrt'], 'min_samples_split': [2], 'n_estimators': [200]}\n",
    "MLP_params = {'activation': ['tanh'], 'alpha': [0.0001], 'learning_rate': ['adaptive'], 'max_iter': [300], 'solver': ['sgd']}\n",
    "\n",
    "Ht_De_Ptn_RmFtCrmd = Ht_De_Ptn_RmFtCr()\n",
    "Ht_De_Ptn_MLPCrmd = Ht_De_Ptn_MLPCr()\n",
    "\n",
    "# GridSearchCV for RF and MLP Classifier\n",
    "Ht_De_Ptn_RFGrid = Ht_De_Ptn_Gdscv(Ht_De_Ptn_RmFtCrmd, RF_params, cv=2, verbose=1)\n",
    "Ht_De_Ptn_RFGrid.fit(Ht_De_Ptn_Xtr.sample(50, random_state=42), Ht_De_Ptn_Ytr.sample(50, random_state=42))\n",
    "\n",
    "Ht_De_Ptn_MLPGrid = Ht_De_Ptn_Gdscv(Ht_De_Ptn_MLPCrmd, MLP_params, cv=2, verbose=1)\n",
    "Ht_De_Ptn_MLPGrid.fit(Ht_De_Ptn_Xtr.sample(50, random_state=42), Ht_De_Ptn_Ytr.sample(50, random_state=42))\n",
    "\n",
    "# Combined models using Voting Classifier\n",
    "Ht_De_Ptn_Votmd = VotingClassifier(estimators=[('RF', Ht_De_Ptn_RFGrid.best_estimator_), ('MLP', Ht_De_Ptn_MLPGrid.best_estimator_)])\n",
    "\n",
    "Ht_De_Ptn_Vtmd = Ht_De_Ptn_Gdscv(Ht_De_Ptn_Votmd, Ht_De_Ptn_VChp, cv=2, verbose=1)\n",
    "Ht_De_Ptn_Vtmd.fit(Ht_De_Ptn_Xtr.sample(50, random_state=42), Ht_De_Ptn_Ytr.sample(50, random_state=42))\n",
    "\n",
    "print(Ht_De_Ptn_Vtmd.best_params_)\n",
    "print(\"The GSV score of combined RF and MLP models:\", Ht_De_Ptn_Vtmd.best_score_)"
   ]
  },
  {
   "cell_type": "code",
   "execution_count": 41,
   "metadata": {},
   "outputs": [
    {
     "name": "stdout",
     "output_type": "stream",
     "text": [
      "Time to train: 0.31535816192626953\n"
     ]
    }
   ],
   "source": [
    "Ht_De_Ptn_tt = Ht_De_Ptn_tme.time()\n",
    "\n",
    "Ht_De_Ptn_VtmdClr = VotingClassifier(estimators=[('RF', Ht_De_Ptn_RFGrid.best_estimator_), ('MLP', Ht_De_Ptn_MLPGrid.best_estimator_)], voting='hard')\n",
    "Ht_De_Ptn_VtmdClr.fit(Ht_De_Ptn_Xtr, Ht_De_Ptn_Ytr)\n",
    "\n",
    "Ht_De_Ptn_tt1 = Ht_De_Ptn_tme.time()\n",
    "print(\"Time to train:\", Ht_De_Ptn_tt1-Ht_De_Ptn_tt)"
   ]
  },
  {
   "cell_type": "code",
   "execution_count": 42,
   "metadata": {},
   "outputs": [
    {
     "name": "stdout",
     "output_type": "stream",
     "text": [
      "              precision    recall  f1-score   support\n",
      "\n",
      "           0       0.67      0.91      0.77        33\n",
      "           1       0.80      0.44      0.57        27\n",
      "\n",
      "    accuracy                           0.70        60\n",
      "   macro avg       0.73      0.68      0.67        60\n",
      "weighted avg       0.73      0.70      0.68        60\n",
      "\n",
      "Time to validate: 0.038015127182006836\n"
     ]
    },
    {
     "data": {
      "image/png": "[encoded data removed]",
      "text/plain": [
       "<Figure size 640x480 with 2 Axes>"
      ]
     },
     "metadata": {},
     "output_type": "display_data"
    }
   ],
   "source": [
    "Ht_De_Ptn_tt = Ht_De_Ptn_tme.time()\n",
    "\n",
    "Ht_De_Ptn_VtmdClr1 = Ht_De_Ptn_VtmdClr.predict(Ht_De_Ptn_Xvl)\n",
    "print(Ht_De_Ptn_Cfrt(Ht_De_Ptn_Yvl, Ht_De_Ptn_VtmdClr1))\n",
    "\n",
    "Ht_De_Ptn_tt1 = Ht_De_Ptn_tme.time()\n",
    "Ht_De_Ptn_XX = Ht_De_Ptn_Cfmx(Ht_De_Ptn_Yvl, Ht_De_Ptn_VtmdClr1)\n",
    "Ht_De_Ptn_YY = Ht_De_Ptn_Cfmxdy(confusion_matrix = Ht_De_Ptn_XX, display_labels = [0, 1])\n",
    "Ht_De_Ptn_YY.plot()\n",
    "print(\"Time to validate:\", Ht_De_Ptn_tt1-Ht_De_Ptn_tt)"
   ]
  },
  {
   "cell_type": "code",
   "execution_count": 43,
   "metadata": {},
   "outputs": [
    {
     "name": "stdout",
     "output_type": "stream",
     "text": [
      "              precision    recall  f1-score   support\n",
      "\n",
      "           0       0.74      0.97      0.84        32\n",
      "           1       0.94      0.61      0.74        28\n",
      "\n",
      "    accuracy                           0.80        60\n",
      "   macro avg       0.84      0.79      0.79        60\n",
      "weighted avg       0.83      0.80      0.79        60\n",
      "\n",
      "Time to test: 0.040198326110839844\n"
     ]
    },
    {
     "data": {
      "image/png": "[encoded data removed]",
      "text/plain": [
       "<Figure size 640x480 with 2 Axes>"
      ]
     },
     "metadata": {},
     "output_type": "display_data"
    }
   ],
   "source": [
    "Ht_De_Ptn_tt = Ht_De_Ptn_tme.time()\n",
    "\n",
    "Ht_De_Ptn_VtmdClr2 = Ht_De_Ptn_VtmdClr.predict(Ht_De_Ptn_Xts)\n",
    "print(Ht_De_Ptn_Cfrt(Ht_De_Ptn_Yts, Ht_De_Ptn_VtmdClr2))\n",
    "\n",
    "Ht_De_Ptn_tt1 = Ht_De_Ptn_tme.time()\n",
    "Ht_De_Ptn_XX = Ht_De_Ptn_Cfmx(Ht_De_Ptn_Yts, Ht_De_Ptn_VtmdClr2)\n",
    "Ht_De_Ptn_YY = Ht_De_Ptn_Cfmxdy(confusion_matrix = Ht_De_Ptn_XX, display_labels = [0, 1])\n",
    "Ht_De_Ptn_YY.plot()\n",
    "print(\"Time to test:\", Ht_De_Ptn_tt1-Ht_De_Ptn_tt)"
   ]
  },
  {
   "cell_type": "code",
   "execution_count": 44,
   "metadata": {},
   "outputs": [],
   "source": [
    "# Combined Models (MLP & DT)"
   ]
  },
  {
   "cell_type": "code",
   "execution_count": 45,
   "metadata": {},
   "outputs": [
    {
     "name": "stdout",
     "output_type": "stream",
     "text": [
      "Fitting 2 folds for each of 1 candidates, totalling 2 fits\n",
      "Fitting 2 folds for each of 1 candidates, totalling 2 fits\n",
      "Fitting 2 folds for each of 2 candidates, totalling 4 fits\n",
      "{'voting': 'soft'}\n",
      "The GSV score of combined MLP and DT models: 0.76\n"
     ]
    }
   ],
   "source": [
    "from sklearn.tree import DecisionTreeClassifier as Ht_De_Ptn_DnTeCr\n",
    "from sklearn.neural_network import MLPClassifier as Ht_De_Ptn_MLPCr\n",
    "\n",
    "Ht_De_Ptn_VChp = {'voting': ['hard', 'soft']}\n",
    "\n",
    "DT_params = {'criterion': ['gini'], 'max_depth': [20], 'min_samples_leaf': [2], 'min_samples_split': [3]}\n",
    "MLP_params = {'activation': ['tanh'], 'alpha': [0.0001], 'learning_rate': ['adaptive'], 'max_iter': [300], 'solver': ['sgd']}\n",
    "\n",
    "Ht_De_Ptn_DnTeCrmd = Ht_De_Ptn_DnTeCr()\n",
    "Ht_De_Ptn_MLPCrmd = Ht_De_Ptn_MLPCr()\n",
    "\n",
    "# GridSearchCV for RF and MLP Classifier\n",
    "Ht_De_Ptn_MLPGrid = Ht_De_Ptn_Gdscv(Ht_De_Ptn_MLPCrmd, MLP_params, cv=2, verbose=1)\n",
    "Ht_De_Ptn_MLPGrid.fit(Ht_De_Ptn_Xtr.sample(50, random_state=42), Ht_De_Ptn_Ytr.sample(50, random_state=42))\n",
    "\n",
    "Ht_De_Ptn_DTGrid = Ht_De_Ptn_Gdscv(Ht_De_Ptn_DnTeCrmd, DT_params, cv=2, verbose=1)\n",
    "Ht_De_Ptn_DTGrid.fit(Ht_De_Ptn_Xtr.sample(50, random_state=42), Ht_De_Ptn_Ytr.sample(50, random_state=42))\n",
    "\n",
    "# Combined models using Voting Classifier\n",
    "Ht_De_Ptn_Votmd = VotingClassifier(estimators=[('MLP', Ht_De_Ptn_MLPGrid.best_estimator_), ('DT', Ht_De_Ptn_DTGrid.best_estimator_)])\n",
    "\n",
    "Ht_De_Ptn_Vtmd = Ht_De_Ptn_Gdscv(Ht_De_Ptn_Votmd, Ht_De_Ptn_VChp, cv=2, verbose=1)\n",
    "Ht_De_Ptn_Vtmd.fit(Ht_De_Ptn_Xtr.sample(50, random_state=42), Ht_De_Ptn_Ytr.sample(50, random_state=42))\n",
    "\n",
    "print(Ht_De_Ptn_Vtmd.best_params_)\n",
    "print(\"The GSV score of combined MLP and DT models:\", Ht_De_Ptn_Vtmd.best_score_)"
   ]
  },
  {
   "cell_type": "code",
   "execution_count": 46,
   "metadata": {},
   "outputs": [
    {
     "name": "stdout",
     "output_type": "stream",
     "text": [
      "Time to train: 0.1404285430908203\n"
     ]
    }
   ],
   "source": [
    "Ht_De_Ptn_tt = Ht_De_Ptn_tme.time()\n",
    "\n",
    "Ht_De_Ptn_VtmdClr = VotingClassifier(estimators=[('MLP', Ht_De_Ptn_MLPGrid.best_estimator_), ('DT', Ht_De_Ptn_DTGrid.best_estimator_)], voting='soft')\n",
    "Ht_De_Ptn_VtmdClr.fit(Ht_De_Ptn_Xtr, Ht_De_Ptn_Ytr)\n",
    "\n",
    "Ht_De_Ptn_tt1 = Ht_De_Ptn_tme.time()\n",
    "print(\"Time to train:\", Ht_De_Ptn_tt1-Ht_De_Ptn_tt)"
   ]
  },
  {
   "cell_type": "code",
   "execution_count": 47,
   "metadata": {},
   "outputs": [
    {
     "name": "stdout",
     "output_type": "stream",
     "text": [
      "              precision    recall  f1-score   support\n",
      "\n",
      "           0       0.77      0.82      0.79        33\n",
      "           1       0.76      0.70      0.73        27\n",
      "\n",
      "    accuracy                           0.77        60\n",
      "   macro avg       0.77      0.76      0.76        60\n",
      "weighted avg       0.77      0.77      0.77        60\n",
      "\n",
      "Time to validate: 0.008514404296875\n"
     ]
    },
    {
     "data": {
      "image/png": "[encoded data removed]",
      "text/plain": [
       "<Figure size 640x480 with 2 Axes>"
      ]
     },
     "metadata": {},
     "output_type": "display_data"
    }
   ],
   "source": [
    "Ht_De_Ptn_tt = Ht_De_Ptn_tme.time()\n",
    "\n",
    "Ht_De_Ptn_VtmdClr1 = Ht_De_Ptn_VtmdClr.predict(Ht_De_Ptn_Xvl)\n",
    "print(Ht_De_Ptn_Cfrt(Ht_De_Ptn_Yvl, Ht_De_Ptn_VtmdClr1))\n",
    "\n",
    "Ht_De_Ptn_tt1 = Ht_De_Ptn_tme.time()\n",
    "Ht_De_Ptn_XX = Ht_De_Ptn_Cfmx(Ht_De_Ptn_Yvl, Ht_De_Ptn_VtmdClr1)\n",
    "Ht_De_Ptn_YY = Ht_De_Ptn_Cfmxdy(confusion_matrix = Ht_De_Ptn_XX, display_labels = [0, 1])\n",
    "Ht_De_Ptn_YY.plot()\n",
    "print(\"Time to validate:\", Ht_De_Ptn_tt1-Ht_De_Ptn_tt)"
   ]
  },
  {
   "cell_type": "code",
   "execution_count": 48,
   "metadata": {},
   "outputs": [
    {
     "name": "stdout",
     "output_type": "stream",
     "text": [
      "              precision    recall  f1-score   support\n",
      "\n",
      "           0       0.89      0.78      0.83        32\n",
      "           1       0.78      0.89      0.83        28\n",
      "\n",
      "    accuracy                           0.83        60\n",
      "   macro avg       0.84      0.84      0.83        60\n",
      "weighted avg       0.84      0.83      0.83        60\n",
      "\n",
      "Time to test: 0.008177042007446289\n"
     ]
    },
    {
     "data": {
      "image/png": "[encoded data removed]",
      "text/plain": [
       "<Figure size 640x480 with 2 Axes>"
      ]
     },
     "metadata": {},
     "output_type": "display_data"
    }
   ],
   "source": [
    "Ht_De_Ptn_tt = Ht_De_Ptn_tme.time()\n",
    "\n",
    "Ht_De_Ptn_VtmdClr2 = Ht_De_Ptn_VtmdClr.predict(Ht_De_Ptn_Xts)\n",
    "print(Ht_De_Ptn_Cfrt(Ht_De_Ptn_Yts, Ht_De_Ptn_VtmdClr2))\n",
    "\n",
    "Ht_De_Ptn_tt1 = Ht_De_Ptn_tme.time()\n",
    "Ht_De_Ptn_XX = Ht_De_Ptn_Cfmx(Ht_De_Ptn_Yts, Ht_De_Ptn_VtmdClr2)\n",
    "Ht_De_Ptn_YY = Ht_De_Ptn_Cfmxdy(confusion_matrix = Ht_De_Ptn_XX, display_labels = [0, 1])\n",
    "Ht_De_Ptn_YY.plot()\n",
    "print(\"Time to test:\", Ht_De_Ptn_tt1-Ht_De_Ptn_tt)"
   ]
  },
  {
   "cell_type": "code",
   "execution_count": 23,
   "metadata": {},
   "outputs": [],
   "source": [
    "# Combined Models (DT & SVM)"
   ]
  },
  {
   "cell_type": "code",
   "execution_count": 49,
   "metadata": {},
   "outputs": [
    {
     "name": "stdout",
     "output_type": "stream",
     "text": [
      "Fitting 2 folds for each of 1 candidates, totalling 2 fits\n",
      "Fitting 2 folds for each of 1 candidates, totalling 2 fits\n",
      "Fitting 2 folds for each of 2 candidates, totalling 4 fits\n",
      "{'voting': 'hard'}\n",
      "The GSV score of combined DT and SVM models: 0.64\n"
     ]
    }
   ],
   "source": [
    "from sklearn.tree import DecisionTreeClassifier as Ht_De_Ptn_DnTeCr\n",
    "from sklearn.svm import SVC as Ht_De_Ptn_SuVeCr\n",
    "\n",
    "Ht_De_Ptn_VChp = {'voting': ['hard', 'soft']}\n",
    "\n",
    "DT_params = {'criterion': ['gini'], 'max_depth': [20], 'min_samples_leaf': [2], 'min_samples_split': [3]}\n",
    "SVM_params = {'C': [0.1], 'gamma': ['scale'], 'kernel': ['rbf']}\n",
    "\n",
    "Ht_De_Ptn_DnTeCrmd = Ht_De_Ptn_DnTeCr()\n",
    "Ht_De_Ptn_SuVeCrmd = Ht_De_Ptn_SuVeCr()\n",
    "\n",
    "# GridSearchCV for RF and MLP Classifier\n",
    "Ht_De_Ptn_DTGrid = Ht_De_Ptn_Gdscv(Ht_De_Ptn_DnTeCrmd, DT_params, cv=2, verbose=1)\n",
    "Ht_De_Ptn_DTGrid.fit(Ht_De_Ptn_Xtr.sample(50, random_state=42), Ht_De_Ptn_Ytr.sample(50, random_state=42))\n",
    "\n",
    "Ht_De_Ptn_SVCGrid = Ht_De_Ptn_Gdscv(Ht_De_Ptn_SuVeCrmd, SVM_params, cv=2, verbose=1)\n",
    "Ht_De_Ptn_SVCGrid.fit(Ht_De_Ptn_Xtr.sample(50, random_state=42), Ht_De_Ptn_Ytr.sample(50, random_state=42))\n",
    "\n",
    "# Combined models using Voting Classifier\n",
    "Ht_De_Ptn_Votmd = VotingClassifier(estimators=[('DT', Ht_De_Ptn_DTGrid.best_estimator_), ('SVM', Ht_De_Ptn_SVCGrid.best_estimator_)])\n",
    "\n",
    "Ht_De_Ptn_Vtmd = Ht_De_Ptn_Gdscv(Ht_De_Ptn_Votmd, Ht_De_Ptn_VChp, cv=2, verbose=1)\n",
    "Ht_De_Ptn_Vtmd.fit(Ht_De_Ptn_Xtr.sample(50, random_state=42), Ht_De_Ptn_Ytr.sample(50, random_state=42))\n",
    "\n",
    "print(Ht_De_Ptn_Vtmd.best_params_)\n",
    "print(\"The GSV score of combined DT and SVM models:\", Ht_De_Ptn_Vtmd.best_score_)"
   ]
  },
  {
   "cell_type": "code",
   "execution_count": 50,
   "metadata": {},
   "outputs": [
    {
     "name": "stdout",
     "output_type": "stream",
     "text": [
      "Time to train: 0.007893800735473633\n"
     ]
    }
   ],
   "source": [
    "Ht_De_Ptn_tt = Ht_De_Ptn_tme.time()\n",
    "\n",
    "Ht_De_Ptn_VtmdClr = VotingClassifier(estimators=[('DT', Ht_De_Ptn_DTGrid.best_estimator_), ('SVM', Ht_De_Ptn_SVCGrid.best_estimator_)], voting='hard')\n",
    "Ht_De_Ptn_VtmdClr.fit(Ht_De_Ptn_Xtr, Ht_De_Ptn_Ytr)\n",
    "\n",
    "Ht_De_Ptn_tt1 = Ht_De_Ptn_tme.time()\n",
    "print(\"Time to train:\", Ht_De_Ptn_tt1-Ht_De_Ptn_tt)"
   ]
  },
  {
   "cell_type": "code",
   "execution_count": 51,
   "metadata": {},
   "outputs": [
    {
     "name": "stdout",
     "output_type": "stream",
     "text": [
      "              precision    recall  f1-score   support\n",
      "\n",
      "           0       0.55      1.00      0.71        33\n",
      "           1       0.00      0.00      0.00        27\n",
      "\n",
      "    accuracy                           0.55        60\n",
      "   macro avg       0.28      0.50      0.35        60\n",
      "weighted avg       0.30      0.55      0.39        60\n",
      "\n",
      "Time to validate: 0.008984088897705078\n"
     ]
    },
    {
     "data": {
      "image/png": "[encoded data removed]",
      "text/plain": [
       "<Figure size 640x480 with 2 Axes>"
      ]
     },
     "metadata": {},
     "output_type": "display_data"
    }
   ],
   "source": [
    "Ht_De_Ptn_tt = Ht_De_Ptn_tme.time()\n",
    "\n",
    "Ht_De_Ptn_VtmdClr1 = Ht_De_Ptn_VtmdClr.predict(Ht_De_Ptn_Xvl)\n",
    "print(Ht_De_Ptn_Cfrt(Ht_De_Ptn_Yvl, Ht_De_Ptn_VtmdClr1))\n",
    "\n",
    "Ht_De_Ptn_tt1 = Ht_De_Ptn_tme.time()\n",
    "Ht_De_Ptn_XX = Ht_De_Ptn_Cfmx(Ht_De_Ptn_Yvl, Ht_De_Ptn_VtmdClr1)\n",
    "Ht_De_Ptn_YY = Ht_De_Ptn_Cfmxdy(confusion_matrix = Ht_De_Ptn_XX, display_labels = [0, 1])\n",
    "Ht_De_Ptn_YY.plot()\n",
    "print(\"Time to validate:\", Ht_De_Ptn_tt1-Ht_De_Ptn_tt)"
   ]
  },
  {
   "cell_type": "code",
   "execution_count": 52,
   "metadata": {},
   "outputs": [
    {
     "name": "stdout",
     "output_type": "stream",
     "text": [
      "              precision    recall  f1-score   support\n",
      "\n",
      "           0       0.53      1.00      0.70        32\n",
      "           1       0.00      0.00      0.00        28\n",
      "\n",
      "    accuracy                           0.53        60\n",
      "   macro avg       0.27      0.50      0.35        60\n",
      "weighted avg       0.28      0.53      0.37        60\n",
      "\n",
      "Time to test: 0.011362791061401367\n"
     ]
    },
    {
     "data": {
      "image/png": "[encoded data removed]",
      "text/plain": [
       "<Figure size 640x480 with 2 Axes>"
      ]
     },
     "metadata": {},
     "output_type": "display_data"
    }
   ],
   "source": [
    "Ht_De_Ptn_tt = Ht_De_Ptn_tme.time()\n",
    "\n",
    "Ht_De_Ptn_VtmdClr2 = Ht_De_Ptn_VtmdClr.predict(Ht_De_Ptn_Xts)\n",
    "print(Ht_De_Ptn_Cfrt(Ht_De_Ptn_Yts, Ht_De_Ptn_VtmdClr2))\n",
    "\n",
    "Ht_De_Ptn_tt1 = Ht_De_Ptn_tme.time()\n",
    "Ht_De_Ptn_XX = Ht_De_Ptn_Cfmx(Ht_De_Ptn_Yts, Ht_De_Ptn_VtmdClr2)\n",
    "Ht_De_Ptn_YY = Ht_De_Ptn_Cfmxdy(confusion_matrix = Ht_De_Ptn_XX, display_labels = [0, 1])\n",
    "Ht_De_Ptn_YY.plot()\n",
    "print(\"Time to test:\", Ht_De_Ptn_tt1-Ht_De_Ptn_tt)"
   ]
  },
  {
   "cell_type": "code",
   "execution_count": null,
   "metadata": {},
   "outputs": [],
   "source": []
  }
 ],
 "metadata": {
  "colab": {
   "authorship_tag": "ABX9TyNtoUXRG02P//t6/J6D2pji",
   "mount_file_id": "1GM-C1SGnh4xiSJmRzUVXpP9xbbxUZ-H6",
   "provenance": [],
   "toc_visible": true
  },
  "kernelspec": {
   "display_name": "Python 3 (ipykernel)",
   "language": "python",
   "name": "python3"
  },
  "language_info": {
   "codemirror_mode": {
    "name": "ipython",
    "version": 3
   },
   "file_extension": ".py",
   "mimetype": "text/x-python",
   "name": "python",
   "nbconvert_exporter": "python",
   "pygments_lexer": "ipython3",
   "version": "3.11.3"
  }
 },
 "nbformat": 4,
 "nbformat_minor": 1
}
